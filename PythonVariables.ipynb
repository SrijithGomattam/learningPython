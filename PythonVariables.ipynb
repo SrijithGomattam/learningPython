{
 "cells": [
  {
   "cell_type": "code",
   "execution_count": 1,
   "id": "dbb466b9",
   "metadata": {},
   "outputs": [],
   "source": [
    "name = \"LeBron\""
   ]
  },
  {
   "cell_type": "code",
   "execution_count": 2,
   "id": "ed986489",
   "metadata": {},
   "outputs": [
    {
     "name": "stdout",
     "output_type": "stream",
     "text": [
      "LeBron\n"
     ]
    }
   ],
   "source": [
    "print(name)"
   ]
  },
  {
   "cell_type": "code",
   "execution_count": 3,
   "id": "d4b5eb1f",
   "metadata": {},
   "outputs": [
    {
     "data": {
      "text/plain": [
       "'LeBron'"
      ]
     },
     "execution_count": 3,
     "metadata": {},
     "output_type": "execute_result"
    }
   ],
   "source": [
    "name"
   ]
  },
  {
   "cell_type": "code",
   "execution_count": 4,
   "id": "353d8c09",
   "metadata": {},
   "outputs": [],
   "source": [
    "this_year = 2023"
   ]
  },
  {
   "cell_type": "code",
   "execution_count": 5,
   "id": "096affb2",
   "metadata": {},
   "outputs": [
    {
     "data": {
      "text/plain": [
       "2023"
      ]
     },
     "execution_count": 5,
     "metadata": {},
     "output_type": "execute_result"
    }
   ],
   "source": [
    "this_year"
   ]
  },
  {
   "cell_type": "code",
   "execution_count": 9,
   "id": "23e35418",
   "metadata": {},
   "outputs": [
    {
     "data": {
      "text/plain": [
       "'2023'"
      ]
     },
     "execution_count": 9,
     "metadata": {},
     "output_type": "execute_result"
    }
   ],
   "source": [
    "str(this_year)"
   ]
  },
  {
   "cell_type": "code",
   "execution_count": null,
   "id": "8b692dc9",
   "metadata": {},
   "outputs": [],
   "source": []
  }
 ],
 "metadata": {
  "kernelspec": {
   "display_name": "Python 3 (ipykernel)",
   "language": "python",
   "name": "python3"
  },
  "language_info": {
   "codemirror_mode": {
    "name": "ipython",
    "version": 3
   },
   "file_extension": ".py",
   "mimetype": "text/x-python",
   "name": "python",
   "nbconvert_exporter": "python",
   "pygments_lexer": "ipython3",
   "version": "3.9.12"
  }
 },
 "nbformat": 4,
 "nbformat_minor": 5
}
