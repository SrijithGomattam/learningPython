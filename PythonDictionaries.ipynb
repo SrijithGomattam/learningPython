{
 "cells": [
  {
   "cell_type": "code",
   "execution_count": 2,
   "id": "ab5487d4",
   "metadata": {},
   "outputs": [],
   "source": [
    "# Python dictionaries are unordered, changeable, and indexed"
   ]
  },
  {
   "cell_type": "code",
   "execution_count": 3,
   "id": "c8dff1fd",
   "metadata": {},
   "outputs": [],
   "source": [
    "# create a dictionary called countries_cities\n",
    "\n",
    "countries_cities = {\n",
    "    \"UK\" : \"London\",\n",
    "    \"US\" : \"New York\",\n",
    "    \"BEL\" : \"Brussels\",\n",
    "    \"FRA\" : \"Paris\",\n",
    "    \"EGY\" : \"Cairo\"\n",
    "}"
   ]
  },
  {
   "cell_type": "code",
   "execution_count": 4,
   "id": "cbca26c7",
   "metadata": {},
   "outputs": [
    {
     "data": {
      "text/plain": [
       "'Cairo'"
      ]
     },
     "execution_count": 4,
     "metadata": {},
     "output_type": "execute_result"
    }
   ],
   "source": [
    "countries_cities[\"EGY\"]"
   ]
  },
  {
   "cell_type": "code",
   "execution_count": 5,
   "id": "b1606725",
   "metadata": {},
   "outputs": [
    {
     "data": {
      "text/plain": [
       "'Boston'"
      ]
     },
     "execution_count": 5,
     "metadata": {},
     "output_type": "execute_result"
    }
   ],
   "source": [
    "# Change value in a dictionary\n",
    "\n",
    "countries_cities[\"United States\"] = \"Boston\"\n",
    "countries_cities[\"United States\"]"
   ]
  },
  {
   "cell_type": "code",
   "execution_count": 6,
   "id": "f61a8d27",
   "metadata": {},
   "outputs": [],
   "source": [
    "# add items to a dictionary\n",
    "\n",
    "countries_cities[\"JAP\"] = \"Tokyo\""
   ]
  },
  {
   "cell_type": "code",
   "execution_count": 7,
   "id": "c0610999",
   "metadata": {},
   "outputs": [
    {
     "name": "stdout",
     "output_type": "stream",
     "text": [
      "{'UK': 'London', 'US': 'New York', 'BEL': 'Brussels', 'FRA': 'Paris', 'EGY': 'Cairo', 'United States': 'Boston', 'JAP': 'Tokyo'}\n"
     ]
    }
   ],
   "source": [
    "print(countries_cities)"
   ]
  },
  {
   "cell_type": "code",
   "execution_count": 8,
   "id": "d8c4d670",
   "metadata": {},
   "outputs": [
    {
     "name": "stdout",
     "output_type": "stream",
     "text": [
      "{'UK': 'London', 'US': 'New York', 'BEL': 'Brussels', 'FRA': 'Paris', 'EGY': 'Cairo', 'United States': 'Boston'}\n"
     ]
    }
   ],
   "source": [
    "countries_cities.pop(\"JAP\")\n",
    "print(countries_cities)"
   ]
  },
  {
   "cell_type": "code",
   "execution_count": 9,
   "id": "2fbe0d79",
   "metadata": {},
   "outputs": [
    {
     "name": "stdout",
     "output_type": "stream",
     "text": [
      "UK\n",
      "US\n",
      "BEL\n",
      "FRA\n",
      "EGY\n",
      "United States\n"
     ]
    }
   ],
   "source": [
    "for x in countries_cities:\n",
    "    print(x)"
   ]
  },
  {
   "cell_type": "code",
   "execution_count": 11,
   "id": "aef19f00",
   "metadata": {},
   "outputs": [
    {
     "name": "stdout",
     "output_type": "stream",
     "text": [
      "London\n",
      "New York\n",
      "Brussels\n",
      "Paris\n",
      "Cairo\n",
      "Boston\n"
     ]
    }
   ],
   "source": [
    "for x in countries_cities.values():\n",
    "    print(x)"
   ]
  },
  {
   "cell_type": "code",
   "execution_count": 12,
   "id": "ebc704fa",
   "metadata": {},
   "outputs": [
    {
     "name": "stdout",
     "output_type": "stream",
     "text": [
      "UK London\n",
      "US New York\n",
      "BEL Brussels\n",
      "FRA Paris\n",
      "EGY Cairo\n",
      "United States Boston\n"
     ]
    }
   ],
   "source": [
    "for x,y in countries_cities.items():\n",
    "    print(x,y)"
   ]
  },
  {
   "cell_type": "code",
   "execution_count": 13,
   "id": "329be381",
   "metadata": {},
   "outputs": [
    {
     "name": "stdout",
     "output_type": "stream",
     "text": [
      "6\n"
     ]
    }
   ],
   "source": [
    "print(len(countries_cities))"
   ]
  },
  {
   "cell_type": "code",
   "execution_count": 14,
   "id": "76ab9a04",
   "metadata": {},
   "outputs": [],
   "source": [
    "# nested dictionaries\n",
    "\n",
    "family = {\n",
    "    \"firstchild\" : {\n",
    "        \"name\" : \"Jack\",\n",
    "        \"age\" : 40\n",
    "    },\n",
    "    \"secondchild\" : {\n",
    "        \"name\" : \"LeBron\",\n",
    "        \"age\" : 36\n",
    "    },\n",
    "    \"thirdchild\" : {\n",
    "        \"name\" : \"Kevin\",\n",
    "        \"age\" : 10\n",
    "    }\n",
    "}"
   ]
  },
  {
   "cell_type": "code",
   "execution_count": 15,
   "id": "95896630",
   "metadata": {},
   "outputs": [
    {
     "data": {
      "text/plain": [
       "{'name': 'LeBron', 'age': 36}"
      ]
     },
     "execution_count": 15,
     "metadata": {},
     "output_type": "execute_result"
    }
   ],
   "source": [
    "family[\"secondchild\"]"
   ]
  },
  {
   "cell_type": "code",
   "execution_count": 16,
   "id": "2112098c",
   "metadata": {},
   "outputs": [
    {
     "data": {
      "text/plain": [
       "{}"
      ]
     },
     "execution_count": 16,
     "metadata": {},
     "output_type": "execute_result"
    }
   ],
   "source": [
    "# clear or empty a dictionary\n",
    "\n",
    "family.clear()\n",
    "family"
   ]
  },
  {
   "cell_type": "code",
   "execution_count": null,
   "id": "d6c75e34",
   "metadata": {},
   "outputs": [],
   "source": []
  }
 ],
 "metadata": {
  "kernelspec": {
   "display_name": "Python 3 (ipykernel)",
   "language": "python",
   "name": "python3"
  },
  "language_info": {
   "codemirror_mode": {
    "name": "ipython",
    "version": 3
   },
   "file_extension": ".py",
   "mimetype": "text/x-python",
   "name": "python",
   "nbconvert_exporter": "python",
   "pygments_lexer": "ipython3",
   "version": "3.9.12"
  }
 },
 "nbformat": 4,
 "nbformat_minor": 5
}
