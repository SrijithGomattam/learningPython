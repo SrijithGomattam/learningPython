{
 "cells": [
  {
   "cell_type": "code",
   "execution_count": 4,
   "id": "cd39f5a3",
   "metadata": {},
   "outputs": [],
   "source": [
    "# list of strings\n",
    "\n",
    "fruits = [\"apple\", \"pear\", \"banana\", \"mango\"]"
   ]
  },
  {
   "cell_type": "code",
   "execution_count": 8,
   "id": "8a896bb3",
   "metadata": {},
   "outputs": [
    {
     "name": "stdout",
     "output_type": "stream",
     "text": [
      "grape\n"
     ]
    }
   ],
   "source": [
    "print(fruits[0])"
   ]
  },
  {
   "cell_type": "code",
   "execution_count": 6,
   "id": "fadd7e31",
   "metadata": {},
   "outputs": [
    {
     "name": "stdout",
     "output_type": "stream",
     "text": [
      "banana\n"
     ]
    }
   ],
   "source": [
    "print(fruits[-2])"
   ]
  },
  {
   "cell_type": "code",
   "execution_count": 7,
   "id": "e9e37443",
   "metadata": {},
   "outputs": [],
   "source": [
    "# change item in list\n",
    "\n",
    "fruits[0] = \"grape\""
   ]
  },
  {
   "cell_type": "code",
   "execution_count": 9,
   "id": "f284db17",
   "metadata": {},
   "outputs": [
    {
     "name": "stdout",
     "output_type": "stream",
     "text": [
      "grape\n"
     ]
    }
   ],
   "source": [
    "print(fruits[0])"
   ]
  },
  {
   "cell_type": "code",
   "execution_count": 10,
   "id": "deaec13f",
   "metadata": {},
   "outputs": [],
   "source": [
    "# add a new item to a list\n",
    "\n",
    "fruits.append(\"apple\")"
   ]
  },
  {
   "cell_type": "code",
   "execution_count": 13,
   "id": "e01f1e6d",
   "metadata": {},
   "outputs": [
    {
     "name": "stdout",
     "output_type": "stream",
     "text": [
      "grape\n",
      "pear\n",
      "banana\n",
      "mango\n",
      "apple\n"
     ]
    }
   ],
   "source": [
    "for x in fruits:\n",
    "    print(x)"
   ]
  },
  {
   "cell_type": "code",
   "execution_count": 14,
   "id": "969691e7",
   "metadata": {},
   "outputs": [],
   "source": [
    "# a list with mixed data types\n",
    "\n",
    "mixed_data = [\"John\", \"Smith\", 22, \"Burbank, California\", True, 5.7]"
   ]
  },
  {
   "cell_type": "code",
   "execution_count": 15,
   "id": "0eafb1e3",
   "metadata": {},
   "outputs": [
    {
     "data": {
      "text/plain": [
       "'Smith'"
      ]
     },
     "execution_count": 15,
     "metadata": {},
     "output_type": "execute_result"
    }
   ],
   "source": [
    "mixed_data[1]"
   ]
  },
  {
   "cell_type": "code",
   "execution_count": 16,
   "id": "85577c07",
   "metadata": {},
   "outputs": [
    {
     "data": {
      "text/plain": [
       "['John', 'Smith', 'Burbank, California', True, 5.7]"
      ]
     },
     "execution_count": 16,
     "metadata": {},
     "output_type": "execute_result"
    }
   ],
   "source": [
    "# removes the item in the list\n",
    "# if an index is not supplied, it removes the last element fo the list\n",
    "\n",
    "mixed_data.pop(2)\n",
    "mixed_data"
   ]
  },
  {
   "cell_type": "code",
   "execution_count": 18,
   "id": "4d6c8820",
   "metadata": {},
   "outputs": [
    {
     "name": "stdout",
     "output_type": "stream",
     "text": [
      "5\n"
     ]
    }
   ],
   "source": [
    "# check the length of the list\n",
    "print(len(mixed_data))"
   ]
  },
  {
   "cell_type": "code",
   "execution_count": 19,
   "id": "638be966",
   "metadata": {},
   "outputs": [
    {
     "data": {
      "text/plain": [
       "[]"
      ]
     },
     "execution_count": 19,
     "metadata": {},
     "output_type": "execute_result"
    }
   ],
   "source": [
    "# clear the list\n",
    "fruits.clear()\n",
    "fruits"
   ]
  },
  {
   "cell_type": "code",
   "execution_count": null,
   "id": "ec336a92",
   "metadata": {},
   "outputs": [],
   "source": []
  }
 ],
 "metadata": {
  "kernelspec": {
   "display_name": "Python 3 (ipykernel)",
   "language": "python",
   "name": "python3"
  },
  "language_info": {
   "codemirror_mode": {
    "name": "ipython",
    "version": 3
   },
   "file_extension": ".py",
   "mimetype": "text/x-python",
   "name": "python",
   "nbconvert_exporter": "python",
   "pygments_lexer": "ipython3",
   "version": "3.9.12"
  }
 },
 "nbformat": 4,
 "nbformat_minor": 5
}
