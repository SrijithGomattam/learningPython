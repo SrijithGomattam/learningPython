{
 "cells": [
  {
   "cell_type": "code",
   "execution_count": 2,
   "id": "7c9da840",
   "metadata": {
    "scrolled": true
   },
   "outputs": [
    {
     "name": "stdout",
     "output_type": "stream",
     "text": [
      "11\n",
      "3\n",
      "28\n",
      "1.75\n",
      "3\n"
     ]
    }
   ],
   "source": [
    " # arithmetic operators\n",
    "    \n",
    "x = 7;\n",
    "y = 4;\n",
    "\n",
    "print(x+y)\n",
    "\n",
    "print(x-y)\n",
    "\n",
    "print(x*y)\n",
    "\n",
    "print(x/y)\n",
    "\n",
    "print(x%y)"
   ]
  },
  {
   "cell_type": "code",
   "execution_count": 8,
   "id": "933ed502",
   "metadata": {},
   "outputs": [
    {
     "name": "stdout",
     "output_type": "stream",
     "text": [
      "4\n",
      "16\n",
      "4\n",
      "12\n",
      "4.0\n",
      "1.0\n"
     ]
    }
   ],
   "source": [
    "# assignment operators\n",
    "\n",
    "city = \"New York\"\n",
    "\n",
    "x = 4 # x is 4\n",
    "print(x)\n",
    "x += 12 # x is 16\n",
    "print(x)\n",
    "x -= 12 # x is 4\n",
    "print(x)\n",
    "x *= 3 # x is 12\n",
    "print(x)\n",
    "x /= 3 # x is 4\n",
    "print(x)\n",
    "x %= 3 # x is 1\n",
    "print(x)\n",
    "\n"
   ]
  },
  {
   "cell_type": "code",
   "execution_count": 9,
   "id": "b1bb4790",
   "metadata": {},
   "outputs": [
    {
     "name": "stdout",
     "output_type": "stream",
     "text": [
      "False\n",
      "True\n",
      "True\n",
      "False\n",
      "True\n",
      "False\n"
     ]
    }
   ],
   "source": [
    "# comparison operators in java\n",
    "\n",
    "x = 7\n",
    "y = 3\n",
    "\n",
    "print(x == y)\n",
    "\n",
    "print(x != y)\n",
    "\n",
    "print(x > y)\n",
    "\n",
    "print(x < y)\n",
    "\n",
    "print(x >= y)\n",
    "\n",
    "print(x <= y)\n"
   ]
  },
  {
   "cell_type": "code",
   "execution_count": 10,
   "id": "f2bbbc14",
   "metadata": {},
   "outputs": [
    {
     "name": "stdout",
     "output_type": "stream",
     "text": [
      "True\n",
      "False\n",
      "False\n",
      "True\n"
     ]
    }
   ],
   "source": [
    "# logical operators\n",
    "\n",
    "x = 7\n",
    "y = 4\n",
    "\n",
    "print(x > 3 and x < 10)\n",
    "print(x == 0 and x > 3)\n",
    "\n",
    "print(x == 0 or x < 3)\n",
    "\n",
    "print(not (x == 3))"
   ]
  },
  {
   "cell_type": "code",
   "execution_count": null,
   "id": "848fa51e",
   "metadata": {},
   "outputs": [],
   "source": []
  }
 ],
 "metadata": {
  "kernelspec": {
   "display_name": "Python 3 (ipykernel)",
   "language": "python",
   "name": "python3"
  },
  "language_info": {
   "codemirror_mode": {
    "name": "ipython",
    "version": 3
   },
   "file_extension": ".py",
   "mimetype": "text/x-python",
   "name": "python",
   "nbconvert_exporter": "python",
   "pygments_lexer": "ipython3",
   "version": "3.9.12"
  }
 },
 "nbformat": 4,
 "nbformat_minor": 5
}
